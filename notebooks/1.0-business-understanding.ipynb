{
 "cells": [
  {
   "cell_type": "markdown",
   "metadata": {},
   "source": [
    "# **Business Undestanding**"
   ]
  },
  {
   "cell_type": "markdown",
   "metadata": {},
   "source": [
    "#### Purpose"
   ]
  },
  {
   "cell_type": "markdown",
   "metadata": {},
   "source": [
    " The overall purpose of developing this dashboard is to provide an interactive and informative platform for stakeholders to explore and understand the real estate market in King County, Washington.\n",
    " \n",
    "Through intuitive visualizations and practical filters, users can analyze price trends over time, investigate relationships between property characteristics and prices, and explore properties based on specific criteria."
   ]
  },
  {
   "cell_type": "markdown",
   "metadata": {},
   "source": [
    "#### Client Requirements "
   ]
  },
  {
   "cell_type": "markdown",
   "metadata": {},
   "source": [
    "##### Visualizations"
   ]
  },
  {
   "cell_type": "markdown",
   "metadata": {},
   "source": [
    "\n",
    "**1. Price Trend Over Time:** Visualization depicting how average house prices have varied over the years.\n",
    "\n",
    "**2. Price Distribution:** Visualization showing the distribution of property prices.\n",
    "\n",
    "**3. Cause and Effect Relationships:** Visualizations to aid in understanding factors affecting property prices such as:\n",
    "- Number of bedrooms\n",
    "- Number of bathrooms\n",
    "- Property sizes\n",
    "  \n",
    "**4. Interactive Map:** A navigable map displaying the locations of properties with markers representing relevant metrics."
   ]
  },
  {
   "cell_type": "markdown",
   "metadata": {},
   "source": [
    "##### Filters"
   ]
  },
  {
   "cell_type": "markdown",
   "metadata": {},
   "source": [
    "**1. Year Built:** Select properties within a specific range of the year they were built.\n",
    "\n",
    "**2. Living Area:** Choose properties within a specific range of the living area size.\n",
    "\n",
    "**3. Lot Area: Select** properties within a specific range of the total lot area.\n",
    "\n",
    "**4. Price:** Filter properties within a specific price range.\n",
    "\n",
    "**5. Waterfront:** Select properties based on the presence or absence of a waterfront view.\n",
    "\n",
    "**6. View:** Filter properties based on the number of views available.\n",
    "\n",
    "**7. Property Condition:** Select properties based on their overall condition level.\n",
    "\n",
    "**8. Grade:** Filter properties based on the overall grade assigned by the city's classification system."
   ]
  },
  {
   "cell_type": "markdown",
   "metadata": {},
   "source": [
    "##### Observations"
   ]
  },
  {
   "cell_type": "markdown",
   "metadata": {},
   "source": [
    "**1. Data Exclusion:** No records should be deleted at the end of the process.\n",
    "\n",
    "**2. Metrics:** All measurements and metrics presented should adhere to the International System of Units (SI).\n",
    "\n",
    "**3. Decimal Places:** All numbers should have a maximum of two decimal places after the point."
   ]
  }
 ],
 "metadata": {
  "kernelspec": {
   "display_name": "Python 3",
   "language": "python",
   "name": "python3"
  },
  "language_info": {
   "codemirror_mode": {
    "name": "ipython",
    "version": 3
   },
   "file_extension": ".py",
   "mimetype": "text/x-python",
   "name": "python",
   "nbconvert_exporter": "python",
   "pygments_lexer": "ipython3",
   "version": "3.12.0"
  }
 },
 "nbformat": 4,
 "nbformat_minor": 2
}
